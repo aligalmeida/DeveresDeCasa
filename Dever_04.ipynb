{
  "nbformat": 4,
  "nbformat_minor": 0,
  "metadata": {
    "colab": {
      "provenance": [],
      "authorship_tag": "ABX9TyOPGmHRkzf/e71Sq/m5jM3p",
      "include_colab_link": true
    },
    "kernelspec": {
      "name": "python3",
      "display_name": "Python 3"
    },
    "language_info": {
      "name": "python"
    }
  },
  "cells": [
    {
      "cell_type": "markdown",
      "metadata": {
        "id": "view-in-github",
        "colab_type": "text"
      },
      "source": [
        "<a href=\"https://colab.research.google.com/github/aligalmeida/DeveresDeCasa/blob/main/Dever_04.ipynb\" target=\"_parent\"><img src=\"https://colab.research.google.com/assets/colab-badge.svg\" alt=\"Open In Colab\"/></a>"
      ]
    },
    {
      "cell_type": "code",
      "execution_count": null,
      "metadata": {
        "id": "mSCA0uW3scEk"
      },
      "outputs": [],
      "source": [
        "import random\n",
        "import pandas as pd\n",
        "\n",
        "# Lista com frutas, incluindo repetições\n",
        "frutas_lista = [\"maçã\", \"banana\", \"laranja\", \"uva\", \"maçã\", \"melão\", \"mamão\", \"banana\"]\n",
        "\n",
        "# Criar o arquivo e escrever frutas com quantidades aleatórias entre 0 e 100\n",
        "with open(\"minhas_frutas.txt\", \"w\", encoding=\"utf-8\") as arquivo:\n",
        "    for fruta in frutas_lista:\n",
        "        quantidade = random.randint(0, 100)\n",
        "        arquivo.write(f\"{fruta},{quantidade}\\n\")\n",
        "\n",
        "# Dicionário para somar as quantidades de frutas repetidas\n",
        "dados = {}\n",
        "\n",
        "# Leitura do arquivo e processamento\n",
        "with open(\"minhas_frutas.txt\", \"r\", encoding=\"utf-8\") as arquivo:\n",
        "    for linha in arquivo:\n",
        "        fruta, quantidade = linha.strip().split(\",\")\n",
        "        quantidade = int(quantidade)\n",
        "        if fruta in dados:\n",
        "            dados[fruta] += quantidade\n",
        "        else:\n",
        "            dados[fruta] = quantidade\n",
        "\n",
        "# Criar DataFrame a partir dos dados processados\n",
        "df = pd.DataFrame(list(dados.items()), columns=[\"Fruta\", \"Quantidade\"])\n",
        "\n",
        "# Exibir o DataFrame no console\n",
        "print(df)"
      ]
    }
  ]
}