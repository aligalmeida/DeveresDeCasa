{
  "nbformat": 4,
  "nbformat_minor": 0,
  "metadata": {
    "colab": {
      "provenance": [],
      "authorship_tag": "ABX9TyPnhlcTSPsRZawmoYyQLci2",
      "include_colab_link": true
    },
    "kernelspec": {
      "name": "python3",
      "display_name": "Python 3"
    },
    "language_info": {
      "name": "python"
    }
  },
  "cells": [
    {
      "cell_type": "markdown",
      "metadata": {
        "id": "view-in-github",
        "colab_type": "text"
      },
      "source": [
        "<a href=\"https://colab.research.google.com/github/aligalmeida/DeveresDeCasa/blob/main/Dever_05.ipynb\" target=\"_parent\"><img src=\"https://colab.research.google.com/assets/colab-badge.svg\" alt=\"Open In Colab\"/></a>"
      ]
    },
    {
      "cell_type": "code",
      "execution_count": null,
      "metadata": {
        "id": "gVA6jOKtBunG"
      },
      "outputs": [],
      "source": [
        "import pandas as pd\n",
        "from sklearn.tree import DecisionTreeClassifier\n",
        "import numpy as np\n",
        "\n",
        "# 1. Criar CSV com 10 entradas\n",
        "dados = {\n",
        "    'IMC': [16.5, 18.0, 22.5, 24.0, 25.0, 27.0, 29.0, 30.0, 34.0, 36.0],\n",
        "    'Obeso': [False, False, False, False, False, False, False, True, True, True]\n",
        "}\n",
        "\n",
        "df = pd.DataFrame(dados)\n",
        "csv_path = 'imc_data.csv'\n",
        "df.to_csv(csv_path, index=False)\n",
        "print(f'CSV salvo em: {csv_path}')\n",
        "\n",
        "# 2. Treinar modelo\n",
        "X = df[['IMC']]\n",
        "y = df['Obeso']\n",
        "\n",
        "modelo = DecisionTreeClassifier()\n",
        "modelo.fit(X, y)\n",
        "\n",
        "# 3. Testar com novo IMC (fora do intervalo conhecido, ex: 40.0)\n",
        "novo_imc = np.array([[40.0]])\n",
        "predicao = modelo.predict(novo_imc)\n",
        "print(f'O IMC {novo_imc[0][0]} é considerado obeso? {predicao[0]}')"
      ]
    }
  ]
}