{
  "nbformat": 4,
  "nbformat_minor": 0,
  "metadata": {
    "colab": {
      "provenance": [],
      "authorship_tag": "ABX9TyOmsOuRVFiXnZN/JF0z2Vfk",
      "include_colab_link": true
    },
    "kernelspec": {
      "name": "python3",
      "display_name": "Python 3"
    },
    "language_info": {
      "name": "python"
    }
  },
  "cells": [
    {
      "cell_type": "markdown",
      "metadata": {
        "id": "view-in-github",
        "colab_type": "text"
      },
      "source": [
        "<a href=\"https://colab.research.google.com/github/aligalmeida/DeveresDeCasa/blob/main/Dever_03.ipynb\" target=\"_parent\"><img src=\"https://colab.research.google.com/assets/colab-badge.svg\" alt=\"Open In Colab\"/></a>"
      ]
    },
    {
      "cell_type": "code",
      "execution_count": 1,
      "metadata": {
        "colab": {
          "base_uri": "https://localhost:8080/"
        },
        "id": "nYcc6XT5ddWY",
        "outputId": "f56275f2-af5a-4daa-ddeb-815c92787a8f"
      },
      "outputs": [
        {
          "output_type": "stream",
          "name": "stdout",
          "text": [
            "Carla tem 22 anos, não é a pessoa mais velha da lista.\n"
          ]
        }
      ],
      "source": [
        "import csv\n",
        "\n",
        "# Nome do arquivo\n",
        "filename = \"dados.csv\"\n",
        "\n",
        "# Criando o arquivo CSV com os dados fornecidos\n",
        "dados = [\n",
        "    [\"Nome\", \"Idade\"],\n",
        "    [\"Ana\", 25],\n",
        "    [\"Bruno\", 30],\n",
        "    [\"Carla\", 22],\n",
        "    [\"Daniel\", 28],\n",
        "    [\"Eduardo\", 35]\n",
        "]\n",
        "\n",
        "with open(filename, mode=\"w\", newline=\"\", encoding=\"utf-8\") as file:\n",
        "    writer = csv.writer(file)\n",
        "    writer.writerows(dados)\n",
        "\n",
        "# Lendo os dados do arquivo CSV e armazenando em uma lista\n",
        "pessoas = []\n",
        "with open(filename, mode=\"r\", newline=\"\", encoding=\"utf-8\") as file:\n",
        "    reader = csv.reader(file)\n",
        "    next(reader)  # Pulando o cabeçalho\n",
        "    for row in reader:\n",
        "        nome, idade = row[0], int(row[1])\n",
        "        pessoas.append((nome, idade))\n",
        "\n",
        "def verificar_nome(nome_digitado):\n",
        "    encontrado = False\n",
        "    idade_digitada = None\n",
        "    maior_idade = max(pessoas, key=lambda x: x[1])[1]  # Encontrar a maior idade na lista\n",
        "\n",
        "    for nome, idade in pessoas:\n",
        "        if nome.lower() == nome_digitado.lower():\n",
        "            encontrado = True\n",
        "            idade_digitada = idade\n",
        "            break\n",
        "\n",
        "    # Exibindo o resultado\n",
        "    if encontrado:\n",
        "        if idade_digitada == maior_idade:\n",
        "            print(f\"{nome_digitado} tem {idade_digitada} anos, é a pessoa mais velha da lista.\")\n",
        "        else:\n",
        "            print(f\"{nome_digitado} tem {idade_digitada} anos, não é a pessoa mais velha da lista.\")\n",
        "    else:\n",
        "        print(\"Nome não encontrado.\")\n",
        "\n",
        "# Teste: Informe um nome para verificar\n",
        "verificar_nome(\"Carla\")  # Substitua pelo nome desejado\n"
      ]
    }
  ]
}